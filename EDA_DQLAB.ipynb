{
  "nbformat": 4,
  "nbformat_minor": 0,
  "metadata": {
    "colab": {
      "name": "EDA_DQLAB.ipynb",
      "provenance": [],
      "authorship_tag": "ABX9TyO6bsuEGwcY50xE+zOIo30u",
      "include_colab_link": true
    },
    "kernelspec": {
      "name": "python3",
      "display_name": "Python 3"
    },
    "language_info": {
      "name": "python"
    }
  },
  "cells": [
    {
      "cell_type": "markdown",
      "metadata": {
        "id": "view-in-github",
        "colab_type": "text"
      },
      "source": [
        "<a href=\"https://colab.research.google.com/github/kurniarahmi/Belajar-di-DQLAB/blob/main/EDA_DQLAB.ipynb\" target=\"_parent\"><img src=\"https://colab.research.google.com/assets/colab-badge.svg\" alt=\"Open In Colab\"/></a>"
      ]
    },
    {
      "cell_type": "markdown",
      "metadata": {
        "id": "eR_4oX9zMYnI"
      },
      "source": [
        "# **Explanatory Data Analysis**\n",
        "\n",
        "---\n",
        "\n",
        "\n",
        "<figure>\n",
        "<center>\n",
        "<img src='https://image.freepik.com/free-vector/cartoon-tiny-analysts-giant-research-dashboard-with-data-flat-illustration_74855-16814.jpg' />\n",
        "<figcaption>Melakukan Analisis Data/Freepik.com/@pch-vector</figcaption></center>\n",
        "</figure>\n",
        "\n",
        "Explanatory Data Analysis adalah proses penyelidikan awal pada data untuk menemukan pola, pencilan/anomali, mengguji hipotesis, dan memeriksa asumsi menggunakan bantuan statistika deskriptif dan visualisasi grafis.  \n",
        "\n",
        "Proses ini menuntut kita untuk lebih kritis terhadap data yang dimiliki. Umumnya penyelidikan ini dilakukan untuk mempermudah kita mendapatkan informasi sebanyak mungkin sebelum dilakukan analisis lebih mendalam. \n",
        "\n",
        "Pada tulisan ini akan dibahas mengenai Explanatory Data Analysis yang mengacu pada modul DQLAB.\n",
        "\n",
        "Sebelum memulai memahami EDA ini, mari mengenal library yang ada di Python yang pastinya akan berguna untuk memudahkan kita dalam melakukan EDA. \n",
        "1. **Library Numpy**\n",
        "\n",
        "  Peggunaan library 'Numpy' ditujukkan untuk melakukan proses komputasi numerik terutama dalam bentuk array multidimensional (1-Dimensi ataupun 2-Dimensi). Sementara itu, istilah 'Array' yang dimaksud adalah kumpulan dari variabel yang memiliki tipe data yang sama. Jadi, NumPy menyimpan data dalam bentuk arrays.\n",
        "\n",
        "2. **Library Pandas**\n",
        "  \n",
        "  Pandas adalah library yang digunakan dalam melakukan manipulasi, cleansing maupun analisis struktur data. Terdapat lima fitur utama dalam pemrosesan dan analisis data, yaitu *load, prepare, manipulate, modelling, dan analysis data*.\n",
        "\n",
        "  Pandas menggunakan konsep array dari NumPy namun memberikan index kepada array tersebut, sehingga disebut series ataupun data frame. Sehingga bisa dikatakan Pandas menyimpan data dalam dictionary-based NumPy arrays. 1-Dimensi labelled array dinamakan sebagai Series. Sedangkan 2-Dimensi dinamakan sebagai Data Frame.\n",
        " \n",
        "3. **Library Scipy**\n",
        "\n",
        "  Library Scipy dibangun untuk bekerja dengan array NumPy dan menyediakan banyak komputasi numerik yang ramah pengguna dan efisien seperti rutinitas untuk integrasi, diferensiasi dan optimasi numerik.\n",
        "\n",
        "4. **Library Matpolib**\n",
        "\n",
        "  Library dari Python yang umum digunakan untuk visualisasi data berupa:\n",
        "  * Line chart\n",
        "  * Bar chart\n",
        "  * Pie chart\n",
        "  * Box plot chart\n",
        "  * Violin chart\n",
        "  * Errorbar chart\n",
        "  * Scatter chart\n",
        "\n",
        "\n",
        "\n"
      ]
    },
    {
      "cell_type": "markdown",
      "metadata": {
        "id": "JWgBpBscqOpl"
      },
      "source": [
        "# 1. Memanggil library di Python"
      ]
    },
    {
      "cell_type": "code",
      "metadata": {
        "id": "Cxow1vHOLHgE"
      },
      "source": [
        "import numpy as np\n",
        "import pandas as pd\n",
        "import matplotlib.pyplot as plt"
      ],
      "execution_count": 4,
      "outputs": []
    },
    {
      "cell_type": "code",
      "metadata": {
        "colab": {
          "base_uri": "https://localhost:8080/",
          "height": 439
        },
        "id": "XdWyjAmzNg6V",
        "outputId": "2ad4df22-6723-4e33-9625-56f8e6ce974d"
      },
      "source": [
        "order_df = pd.read_csv(\"https://storage.googleapis.com/dqlab-dataset/order.csv\")\n",
        "order_df"
      ],
      "execution_count": 3,
      "outputs": [
        {
          "output_type": "execute_result",
          "data": {
            "text/html": [
              "<div>\n",
              "<style scoped>\n",
              "    .dataframe tbody tr th:only-of-type {\n",
              "        vertical-align: middle;\n",
              "    }\n",
              "\n",
              "    .dataframe tbody tr th {\n",
              "        vertical-align: top;\n",
              "    }\n",
              "\n",
              "    .dataframe thead th {\n",
              "        text-align: right;\n",
              "    }\n",
              "</style>\n",
              "<table border=\"1\" class=\"dataframe\">\n",
              "  <thead>\n",
              "    <tr style=\"text-align: right;\">\n",
              "      <th></th>\n",
              "      <th>order_id</th>\n",
              "      <th>quantity</th>\n",
              "      <th>product_id</th>\n",
              "      <th>price</th>\n",
              "      <th>seller_id</th>\n",
              "      <th>freight_value</th>\n",
              "      <th>customer_id</th>\n",
              "      <th>order_status</th>\n",
              "      <th>purchase_date</th>\n",
              "      <th>payment_type</th>\n",
              "      <th>product_category_name</th>\n",
              "      <th>product_weight_gram</th>\n",
              "    </tr>\n",
              "  </thead>\n",
              "  <tbody>\n",
              "    <tr>\n",
              "      <th>0</th>\n",
              "      <td>2e7a8482f6fb09756ca50c10d7bfc047</td>\n",
              "      <td>2</td>\n",
              "      <td>f293394c72c9b5fafd7023301fc21fc2</td>\n",
              "      <td>1489000</td>\n",
              "      <td>1554a68530182680ad5c8b042c3ab563</td>\n",
              "      <td>28000</td>\n",
              "      <td>08c5351a6aca1c1589a38f244edeee9d</td>\n",
              "      <td>shipped</td>\n",
              "      <td>2016-09-05</td>\n",
              "      <td>virtual account</td>\n",
              "      <td>fashion</td>\n",
              "      <td>1800.0</td>\n",
              "    </tr>\n",
              "    <tr>\n",
              "      <th>1</th>\n",
              "      <td>2e7a8482f6fb09756ca50c10d7bfc047</td>\n",
              "      <td>1</td>\n",
              "      <td>c1488892604e4ba5cff5b4eb4d595400</td>\n",
              "      <td>1756000</td>\n",
              "      <td>1554a68530182680ad5c8b042c3ab563</td>\n",
              "      <td>45000</td>\n",
              "      <td>08c5351a6aca1c1589a38f244edeee9d</td>\n",
              "      <td>shipped</td>\n",
              "      <td>2016-09-05</td>\n",
              "      <td>virtual account</td>\n",
              "      <td>automotive</td>\n",
              "      <td>1400.0</td>\n",
              "    </tr>\n",
              "    <tr>\n",
              "      <th>2</th>\n",
              "      <td>e5fa5a7210941f7d56d0208e4e071d35</td>\n",
              "      <td>1</td>\n",
              "      <td>f3c2d01a84c947b078e32bbef0718962</td>\n",
              "      <td>1707000</td>\n",
              "      <td>a425f92c199eb576938df686728acd20</td>\n",
              "      <td>174000</td>\n",
              "      <td>683c54fc24d40ee9f8a6fc179fd9856c</td>\n",
              "      <td>canceled</td>\n",
              "      <td>2016-09-05</td>\n",
              "      <td>e-wallet</td>\n",
              "      <td>toys</td>\n",
              "      <td>700.0</td>\n",
              "    </tr>\n",
              "    <tr>\n",
              "      <th>3</th>\n",
              "      <td>3b697a20d9e427646d92567910af6d57</td>\n",
              "      <td>1</td>\n",
              "      <td>3ae08df6bcbfe23586dd431c40bddbb7</td>\n",
              "      <td>3071000</td>\n",
              "      <td>522620dcb18a6b31cd7bdf73665113a9</td>\n",
              "      <td>154000</td>\n",
              "      <td>355077684019f7f60a031656bd7262b8</td>\n",
              "      <td>delivered</td>\n",
              "      <td>2016-10-03</td>\n",
              "      <td>e-wallet</td>\n",
              "      <td>utilities</td>\n",
              "      <td>300.0</td>\n",
              "    </tr>\n",
              "    <tr>\n",
              "      <th>4</th>\n",
              "      <td>71303d7e93b399f5bcd537d124c0bcfa</td>\n",
              "      <td>1</td>\n",
              "      <td>d2998d7ced12f83f9b832f33cf6507b6</td>\n",
              "      <td>3833000</td>\n",
              "      <td>25e6ffe976bd75618accfe16cefcbd0d</td>\n",
              "      <td>147000</td>\n",
              "      <td>b106b360fe2ef8849fbbd056f777b4d5</td>\n",
              "      <td>canceled</td>\n",
              "      <td>2016-10-03</td>\n",
              "      <td>e-wallet</td>\n",
              "      <td>fashion</td>\n",
              "      <td>500.0</td>\n",
              "    </tr>\n",
              "    <tr>\n",
              "      <th>...</th>\n",
              "      <td>...</td>\n",
              "      <td>...</td>\n",
              "      <td>...</td>\n",
              "      <td>...</td>\n",
              "      <td>...</td>\n",
              "      <td>...</td>\n",
              "      <td>...</td>\n",
              "      <td>...</td>\n",
              "      <td>...</td>\n",
              "      <td>...</td>\n",
              "      <td>...</td>\n",
              "      <td>...</td>\n",
              "    </tr>\n",
              "    <tr>\n",
              "      <th>49994</th>\n",
              "      <td>ec88157ad03aa203c3fdfe7bace5ab6b</td>\n",
              "      <td>1</td>\n",
              "      <td>165f86fe8b799a708a20ee4ba125c289</td>\n",
              "      <td>3077000</td>\n",
              "      <td>7ddcbb64b5bc1ef36ca8c151f6ec77df</td>\n",
              "      <td>172000</td>\n",
              "      <td>1642b8087a8ca0c8592becff7e183c98</td>\n",
              "      <td>delivered</td>\n",
              "      <td>2017-12-15</td>\n",
              "      <td>e-wallet</td>\n",
              "      <td>automotive</td>\n",
              "      <td>2425.0</td>\n",
              "    </tr>\n",
              "    <tr>\n",
              "      <th>49995</th>\n",
              "      <td>ed60085e92e2aa3debf49159deb34da7</td>\n",
              "      <td>1</td>\n",
              "      <td>6e835aea84ae8eb68b8c14878dd43b30</td>\n",
              "      <td>1277000</td>\n",
              "      <td>4d6d651bd7684af3fffabd5f08d12e5a</td>\n",
              "      <td>130000</td>\n",
              "      <td>431bbb57d52f3141ab2f33a6a4cf00a6</td>\n",
              "      <td>delivered</td>\n",
              "      <td>2017-12-15</td>\n",
              "      <td>debit card</td>\n",
              "      <td>beauty</td>\n",
              "      <td>2350.0</td>\n",
              "    </tr>\n",
              "    <tr>\n",
              "      <th>49996</th>\n",
              "      <td>ed98c37d860890f940e2acd83629fdd1</td>\n",
              "      <td>2</td>\n",
              "      <td>aca2eb7d00ea1a7b8ebd4e68314663af</td>\n",
              "      <td>486000</td>\n",
              "      <td>955fee9216a65b617aa5c0531780ce60</td>\n",
              "      <td>14000</td>\n",
              "      <td>71f8cd490677ee95362201588c0eaff4</td>\n",
              "      <td>delivered</td>\n",
              "      <td>2017-12-15</td>\n",
              "      <td>debit card</td>\n",
              "      <td>gadget</td>\n",
              "      <td>2600.0</td>\n",
              "    </tr>\n",
              "    <tr>\n",
              "      <th>49997</th>\n",
              "      <td>ed98c37d860890f940e2acd83629fdd1</td>\n",
              "      <td>1</td>\n",
              "      <td>aca2eb7d00ea1a7b8ebd4e68314663af</td>\n",
              "      <td>830000</td>\n",
              "      <td>955fee9216a65b617aa5c0531780ce60</td>\n",
              "      <td>108000</td>\n",
              "      <td>71f8cd490677ee95362201588c0eaff4</td>\n",
              "      <td>delivered</td>\n",
              "      <td>2017-12-15</td>\n",
              "      <td>e-wallet</td>\n",
              "      <td>gadget</td>\n",
              "      <td>2600.0</td>\n",
              "    </tr>\n",
              "    <tr>\n",
              "      <th>49998</th>\n",
              "      <td>ede4ebbb6e36cbd377eabcc7f5229575</td>\n",
              "      <td>1</td>\n",
              "      <td>2b0ee2d07306f7c9ac55a43166e9bb4b</td>\n",
              "      <td>215000</td>\n",
              "      <td>1900267e848ceeba8fa32d80c1a5f5a8</td>\n",
              "      <td>189000</td>\n",
              "      <td>60d2d93a97ec1ad751f2ddce9249ba2a</td>\n",
              "      <td>delivered</td>\n",
              "      <td>2017-12-15</td>\n",
              "      <td>credit card</td>\n",
              "      <td>beauty</td>\n",
              "      <td>1450.0</td>\n",
              "    </tr>\n",
              "  </tbody>\n",
              "</table>\n",
              "<p>49999 rows × 12 columns</p>\n",
              "</div>"
            ],
            "text/plain": [
              "                               order_id  ...  product_weight_gram\n",
              "0      2e7a8482f6fb09756ca50c10d7bfc047  ...               1800.0\n",
              "1      2e7a8482f6fb09756ca50c10d7bfc047  ...               1400.0\n",
              "2      e5fa5a7210941f7d56d0208e4e071d35  ...                700.0\n",
              "3      3b697a20d9e427646d92567910af6d57  ...                300.0\n",
              "4      71303d7e93b399f5bcd537d124c0bcfa  ...                500.0\n",
              "...                                 ...  ...                  ...\n",
              "49994  ec88157ad03aa203c3fdfe7bace5ab6b  ...               2425.0\n",
              "49995  ed60085e92e2aa3debf49159deb34da7  ...               2350.0\n",
              "49996  ed98c37d860890f940e2acd83629fdd1  ...               2600.0\n",
              "49997  ed98c37d860890f940e2acd83629fdd1  ...               2600.0\n",
              "49998  ede4ebbb6e36cbd377eabcc7f5229575  ...               1450.0\n",
              "\n",
              "[49999 rows x 12 columns]"
            ]
          },
          "metadata": {},
          "execution_count": 3
        }
      ]
    },
    {
      "cell_type": "markdown",
      "metadata": {
        "id": "QVJFUpJaN4-N"
      },
      "source": [
        "# 2. Inspeksi struktur data frame\n",
        "## Melihat struktur kolom dan baris dari data frame"
      ]
    },
    {
      "cell_type": "code",
      "metadata": {
        "id": "xBvDYpleN4e3",
        "colab": {
          "base_uri": "https://localhost:8080/"
        },
        "outputId": "f4468538-fd5b-4feb-b0ad-482c94a67b0a"
      },
      "source": [
        "print(order_df.shape)"
      ],
      "execution_count": 5,
      "outputs": [
        {
          "output_type": "stream",
          "name": "stdout",
          "text": [
            "(49999, 12)\n"
          ]
        }
      ]
    },
    {
      "cell_type": "markdown",
      "metadata": {
        "id": "bKPe98xLv_Zu"
      },
      "source": [
        "Artinya, terdapat 49999 baris dan 12 kolom.\n",
        "Selanjutnya, akan diperlihatkan 10 baris di awal dan 10 baris di akhir menggunakan fungsi head() dan tail()."
      ]
    },
    {
      "cell_type": "code",
      "metadata": {
        "colab": {
          "base_uri": "https://localhost:8080/"
        },
        "id": "9-WN7Q_mOR7C",
        "outputId": "872de7ae-3717-4f0c-e0e8-5e6d55e3c3a2"
      },
      "source": [
        "print(order_df.head(10))\n",
        "print(order_df.tail(10))"
      ],
      "execution_count": 6,
      "outputs": [
        {
          "output_type": "stream",
          "name": "stdout",
          "text": [
            "                           order_id  ...  product_weight_gram\n",
            "0  2e7a8482f6fb09756ca50c10d7bfc047  ...               1800.0\n",
            "1  2e7a8482f6fb09756ca50c10d7bfc047  ...               1400.0\n",
            "2  e5fa5a7210941f7d56d0208e4e071d35  ...                700.0\n",
            "3  3b697a20d9e427646d92567910af6d57  ...                300.0\n",
            "4  71303d7e93b399f5bcd537d124c0bcfa  ...                500.0\n",
            "5  be5bc2f0da14d8071e2d45451ad119d9  ...                400.0\n",
            "6  0a0837a5eee9e7a9ce2b1fa831944d27  ...               3100.0\n",
            "7  1ff217aa612f6cd7c4255c9bfe931c8b  ...                200.0\n",
            "8  22613579f7d11cc59c4347526fc3c79e  ...                600.0\n",
            "9  356b492aba2d1a7da886e54e0b6212b7  ...                610.0\n",
            "\n",
            "[10 rows x 12 columns]\n",
            "                               order_id  ...  product_weight_gram\n",
            "49989  e2abaacfbaa87cb128b9c6675bcd2b98  ...                150.0\n",
            "49990  e35d5b4ff8dc9aeccf9cd8ce63c07a68  ...               1150.0\n",
            "49991  e59dbfb7d81fd513f1ffa941fe849c57  ...               1064.0\n",
            "49992  e821c71ba6efed0813bbc0a01a95f24d  ...                925.0\n",
            "49993  e821c71ba6efed0813bbc0a01a95f24d  ...                925.0\n",
            "49994  ec88157ad03aa203c3fdfe7bace5ab6b  ...               2425.0\n",
            "49995  ed60085e92e2aa3debf49159deb34da7  ...               2350.0\n",
            "49996  ed98c37d860890f940e2acd83629fdd1  ...               2600.0\n",
            "49997  ed98c37d860890f940e2acd83629fdd1  ...               2600.0\n",
            "49998  ede4ebbb6e36cbd377eabcc7f5229575  ...               1450.0\n",
            "\n",
            "[10 rows x 12 columns]\n"
          ]
        }
      ]
    },
    {
      "cell_type": "markdown",
      "metadata": {
        "id": "-Rz6JDahekO2"
      },
      "source": [
        "## Membuat summary data sederhana dari dataset"
      ]
    },
    {
      "cell_type": "code",
      "metadata": {
        "colab": {
          "base_uri": "https://localhost:8080/"
        },
        "id": "zhKeVdWFOawj",
        "outputId": "932529f2-c519-4ae6-e79e-965fc381f32e"
      },
      "source": [
        "# Quick summary  dari segi kuantitas, harga, freight value, dan weight\n",
        "print(order_df.describe())\n",
        "# Median median dan rataan dari total pembelian konsumen per transaksi kolom price\n",
        "print(\"median adalah\",(order_df.loc[:, \"price\"].median()))\n",
        "print(\"rataannya adalah\",round((order_df.loc[:, \"price\"].mean()),2))"
      ],
      "execution_count": 42,
      "outputs": [
        {
          "output_type": "stream",
          "name": "stdout",
          "text": [
            "           quantity         price  freight_value  product_weight_gram\n",
            "count  49999.000000  4.999900e+04   49999.000000         49980.000000\n",
            "mean       1.197484  2.607784e+06  104521.390428          2201.830892\n",
            "std        0.722262  1.388312e+06   55179.844962          3929.896875\n",
            "min        1.000000  2.000000e+05    9000.000000            50.000000\n",
            "25%        1.000000  1.410500e+06   57000.000000           300.000000\n",
            "50%        1.000000  2.610000e+06  104000.000000           800.000000\n",
            "75%        1.000000  3.810000e+06  152000.000000          1850.000000\n",
            "max       21.000000  5.000000e+06  200000.000000         40425.000000\n",
            "median adalah 2610000.0\n",
            "rataannya adalah 2607783.92\n"
          ]
        }
      ]
    },
    {
      "cell_type": "markdown",
      "metadata": {
        "id": "ZNHVhGI15X9j"
      },
      "source": [
        "Jika diperhatikan, nilai median dan rataanya memiliki nilai yang tidak jauh berbeda. Artinya \"price\" termasuk ke dalam data yang baik. "
      ]
    },
    {
      "cell_type": "markdown",
      "metadata": {
        "id": "_QS91sRzgPrd"
      },
      "source": [
        "## Mengenal dan Membuat Distribusi Data dengan Histogram"
      ]
    },
    {
      "cell_type": "code",
      "metadata": {
        "colab": {
          "base_uri": "https://localhost:8080/",
          "height": 349
        },
        "id": "89HMdGyTgQ5U",
        "outputId": "83142bc2-4d37-4dbc-f871-6ce18bc27816"
      },
      "source": [
        "# plot histogram kolom: price\n",
        "order_df[[\"price\"]].hist(figsize=(4, 5), bins=10, xlabelsize=10, ylabelsize=10, facecolor='#9F2B68')\n",
        "plt.show()  # Untuk menampilkan histogram plot"
      ],
      "execution_count": 49,
      "outputs": [
        {
          "output_type": "display_data",
          "data": {
            "image/png": "[encoded data removed]",
            "text/plain": [
              "<Figure size 288x360 with 1 Axes>"
            ]
          },
          "metadata": {
            "needs_background": "light"
          }
        }
      ]
    },
    {
      "cell_type": "markdown",
      "metadata": {
        "id": "D-dYeDp0j3Mb"
      },
      "source": [
        "# 3. Standar Deviasi dan Varians pada Pandas"
      ]
    },
    {
      "cell_type": "code",
      "metadata": {
        "colab": {
          "base_uri": "https://localhost:8080/"
        },
        "id": "BLR4MoOUjyfc",
        "outputId": "a0c240b1-8bb3-4ab4-cfd7-600c5606e82f"
      },
      "source": [
        "# Standar variasi kolom product_weight_gram\n",
        "print(\"Nilai standar deviasi =\",round(order_df.loc[:, \"product_weight_gram\"].std(),2))\n",
        "# Varians kolom product_weight_gram\n",
        "print(\"Nilai varians =\", round(order_df.loc[:, \"product_weight_gram\"].var(),2))"
      ],
      "execution_count": 46,
      "outputs": [
        {
          "output_type": "stream",
          "name": "stdout",
          "text": [
            "Nilai standar deviasi = 3929.9\n",
            "Nilai varians = 15444089.45\n"
          ]
        }
      ]
    },
    {
      "cell_type": "markdown",
      "metadata": {
        "id": "DTwcYLFDmRTe"
      },
      "source": [
        "# 4.  Menemukan Outliers Menggunakan Pandas\n",
        "\n",
        "Oulier/pencilan adalah nilai ekstrim yang dapat menggamggu hasil akhir. Umumnya nilai pencilan ini dapat diketahui jika memenuhi kedua syarat sebagai berikut:\n",
        "\n",
        "* data < Q1 - 1.5 * IQR\n",
        "* data > Q3 + 1.5 * IQR\n"
      ]
    },
    {
      "cell_type": "code",
      "metadata": {
        "colab": {
          "base_uri": "https://localhost:8080/"
        },
        "id": "QXU9lhLlmNyk",
        "outputId": "942c78c4-ed1c-4d7c-8326-38638e74d0b7"
      },
      "source": [
        "# Hitung quartile 1\n",
        "Q1 = order_df[[\"product_weight_gram\"]].quantile(0.25)\n",
        "# Hitung quartile 3\n",
        "Q3 = order_df[[\"product_weight_gram\"]].quantile(0.75)\n",
        "# Hitung inter quartile range dan cetak ke console\n",
        "IQR = Q3-Q1\n",
        "print(\"Pencilan dari\",IQR)"
      ],
      "execution_count": 53,
      "outputs": [
        {
          "output_type": "stream",
          "name": "stdout",
          "text": [
            "Pencilan dari product_weight_gram    1550.0\n",
            "dtype: float64\n"
          ]
        }
      ]
    },
    {
      "cell_type": "markdown",
      "metadata": {
        "id": "NIsP6V7dn9hJ"
      },
      "source": [
        "#5. Rename Kolom Data Frame"
      ]
    },
    {
      "cell_type": "code",
      "metadata": {
        "colab": {
          "base_uri": "https://localhost:8080/"
        },
        "id": "6qPGKA5Mn7Jb",
        "outputId": "acd1a3a8-8c94-4bff-95d8-ffd4df510987"
      },
      "source": [
        "order_df.rename(columns={\"freight_value\": \"shipping_cost\"}, inplace=True)\n",
        "order_df.columns"
      ],
      "execution_count": 59,
      "outputs": [
        {
          "output_type": "execute_result",
          "data": {
            "text/plain": [
              "Index(['order_id', 'quantity', 'product_id', 'price', 'seller_id',\n",
              "       'shipping_cost', 'customer_id', 'order_status', 'purchase_date',\n",
              "       'payment_type', 'product_category_name', 'product_weight_gram'],\n",
              "      dtype='object')"
            ]
          },
          "metadata": {},
          "execution_count": 59
        }
      ]
    },
    {
      "cell_type": "markdown",
      "metadata": {
        "id": "YM-zfMZboyvy"
      },
      "source": [
        "#6. groupby menggunakan Pandas\n",
        "\n",
        "Ditujukkan untuk mencari summary dari data frame dengan menggunakan aggregate dari kolom tertentu dengan aturan sebagai berikut.\n",
        "\n",
        "* jika fungsi aggregate adalah mean\n",
        "```\n",
        "df[\"score\"].groupby([df[\"name\"]]).mean()\n",
        "```\n",
        "\n",
        "* jika fungsi aggregate adalah sum\n",
        "```\n",
        "df[\"score\"].groupby([df[\"name\"]]).sum()\n",
        "```\n",
        "\n",
        "* dll."
      ]
    },
    {
      "cell_type": "code",
      "metadata": {
        "colab": {
          "base_uri": "https://localhost:8080/"
        },
        "id": "-_NZmrhTn-c7",
        "outputId": "e0074145-fbd3-4a42-d6d4-e24fae47010f"
      },
      "source": [
        "# Hitung rata rata dari price per payment_type\n",
        "rata_rata = order_df[\"price\"].groupby(order_df[\"payment_type\"]).mean()\n",
        "print(rata_rata)"
      ],
      "execution_count": 60,
      "outputs": [
        {
          "output_type": "stream",
          "name": "stdout",
          "text": [
            "payment_type\n",
            "credit card        2.600706e+06\n",
            "debit card         2.611974e+06\n",
            "e-wallet           2.598562e+06\n",
            "virtual account    2.619786e+06\n",
            "Name: price, dtype: float64\n"
          ]
        }
      ]
    },
    {
      "cell_type": "markdown",
      "metadata": {
        "id": "DtjaXk8kpTQs"
      },
      "source": [
        "#7. Sorting Menggunakan Pandas"
      ]
    },
    {
      "cell_type": "code",
      "metadata": {
        "colab": {
          "base_uri": "https://localhost:8080/"
        },
        "id": "Q1zIDme8pQOl",
        "outputId": "3f959550-5853-492b-a4b4-4b28e4eded1f"
      },
      "source": [
        "# Hitung harga maksimum pembelian customer\n",
        "sort_harga = order_df.sort_values(by=\"price\", ascending=True)\n",
        "print(sort_harga)"
      ],
      "execution_count": 61,
      "outputs": [
        {
          "output_type": "stream",
          "name": "stdout",
          "text": [
            "                               order_id  ...  product_weight_gram\n",
            "11939  64619901c45fba79638d666058bf6be6  ...                200.0\n",
            "42166  54220fcc516cabe9ec84b210c0765ef2  ...               1100.0\n",
            "42452  9960ee97c2f8d801a200a01893b3942f  ...               6663.0\n",
            "42025  36cdcd48e9697951eef9c32ef39dc9f3  ...                550.0\n",
            "33786  0d9e86e02c1a823b20c03ea29d616607  ...               7550.0\n",
            "...                                 ...  ...                  ...\n",
            "3976   f343624eab419250ad81f1ce6be22c93  ...                950.0\n",
            "21072  c8947a583ab9791a5a9d02384cb84302  ...                550.0\n",
            "41958  2711089c7fec59d4dc8483e3c6a12fa3  ...                200.0\n",
            "22618  a767765cf25c6fcfd8307499da9205d2  ...                200.0\n",
            "47074  f6134169ca6f0cdfbe6458ebb5731613  ...              10600.0\n",
            "\n",
            "[49999 rows x 12 columns]\n"
          ]
        }
      ]
    },
    {
      "cell_type": "markdown",
      "metadata": {
        "id": "zoL5KDPDt-3y"
      },
      "source": [
        "# Studi Kasus"
      ]
    },
    {
      "cell_type": "code",
      "metadata": {
        "colab": {
          "base_uri": "https://localhost:8080/",
          "height": 1000
        },
        "id": "11wJlaSft4HZ",
        "outputId": "06fd91d1-425b-4940-d8f6-11c01d759d81"
      },
      "source": [
        "import pandas as pd\n",
        "import matplotlib.pyplot as plt\n",
        "order_df = pd.read_csv(\"https://storage.googleapis.com/dqlab-dataset/order.csv\")\n",
        "\n",
        "# Median price yang dibayar customer dari masing-masing metode pembayaran. \n",
        "median_price = order_df[\"price\"].groupby(order_df[\"payment_type\"]).median()\n",
        "print(median_price)\n",
        "\n",
        "# Ubah freight_value menjadi shipping_cost dan cari shipping_cost \n",
        "# termahal dari data penjualan tersebut menggunakan sort.\n",
        "order_df.rename(columns={\"freight_value\": \"shipping_cost\"}, inplace=True)\n",
        "sort_value = order_df.sort_values(by=\"shipping_cost\", ascending=0)\n",
        "print(sort_value)\n",
        "\n",
        "# Untuk product_category_name, berapa  rata-rata weight produk tersebut \n",
        "# dan standar deviasi mana yang terkecil dari weight tersebut, \n",
        "mean_value = order_df[\"product_weight_gram\"].groupby(order_df[\"product_category_name\"]).mean()\n",
        "print(mean_value.sort_values())\n",
        "std_value = order_df[\"product_weight_gram\"].groupby(order_df[\"product_category_name\"]).std()\n",
        "print(std_value.sort_values())\n",
        "\n",
        "# Buat histogram quantity penjualan dari dataset tersebutuntuk melihat persebaran quantity \n",
        "# penjualan tersebut dengan bins = 5 dan figsize= (4,5)\n",
        "order_df[[\"quantity\"]].hist(figsize=(4, 5), bins=5,facecolor= \"#DC143C\" )\n",
        "plt.show()"
      ],
      "execution_count": 62,
      "outputs": [
        {
          "output_type": "stream",
          "name": "stdout",
          "text": [
            "payment_type\n",
            "credit card        2587500\n",
            "debit card         2621500\n",
            "e-wallet           2589000\n",
            "virtual account    2643000\n",
            "Name: price, dtype: int64\n",
            "                               order_id  ...  product_weight_gram\n",
            "23829  7d63cb1d349e7bd0ee1edcc61ea71077  ...                400.0\n",
            "12011  00c9f7d4b0e87781465e562dc109f6aa  ...                900.0\n",
            "10984  69013d19f8db4cd7dc9f3b5c2564a96f  ...                250.0\n",
            "29722  f32c4d2b078bc5a354f4c1184522b5ff  ...                450.0\n",
            "15259  c8eab0ccabe8cdfc2afce66c1c554ae2  ...                100.0\n",
            "...                                 ...  ...                  ...\n",
            "2891   1d0e8770169496e47622b6cbc0d10bda  ...                900.0\n",
            "36815  4bff82a994068f564e54b52b08ef4512  ...                150.0\n",
            "8175   e6b1fa22555c3064f984ebeb8a88de77  ...                250.0\n",
            "4034   8ac2728285fd4228f35d907768b5288a  ...               1700.0\n",
            "32994  0286e258217733541e80588e29c208c1  ...                700.0\n",
            "\n",
            "[49999 rows x 12 columns]\n",
            "product_category_name\n",
            "beauty         2120.088396\n",
            "automotive     2129.559039\n",
            "electronics    2144.751191\n",
            "toys           2203.863643\n",
            "gadget         2229.632942\n",
            "fashion        2246.516901\n",
            "sports         2251.879909\n",
            "utilities      2291.029868\n",
            "Name: product_weight_gram, dtype: float64\n",
            "product_category_name\n",
            "automotive     3799.884166\n",
            "beauty         3837.474929\n",
            "electronics    3839.271768\n",
            "fashion        3858.885213\n",
            "gadget         3955.792741\n",
            "toys           3956.814749\n",
            "sports         4032.850044\n",
            "utilities      4150.509909\n",
            "Name: product_weight_gram, dtype: float64\n"
          ]
        },
        {
          "output_type": "display_data",
          "data": {
            "image/png": "[encoded data removed]",
            "text/plain": [
              "<Figure size 288x360 with 1 Axes>"
            ]
          },
          "metadata": {
            "needs_background": "light"
          }
        }
      ]
    },
    {
      "cell_type": "markdown",
      "metadata": {
        "id": "ff3SyhPSugzA"
      },
      "source": [
        "# Referensi\n",
        "*   Modul DQLAB [Exploratory Data Analysis with Python for Beginner](https://academy.dqlab.id/main/package/practice/163/0?pf=0)\n",
        "*   [towardsdatascience.com](https://towardsdatascience.com/exploratory-data-analysis-8fc1cb20fd15)\n",
        "\n"
      ]
    }
  ]
}